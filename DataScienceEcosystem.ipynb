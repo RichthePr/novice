{
  "metadata": {
    "kernelspec": {
      "name": "python",
      "display_name": "Python (Pyodide)",
      "language": "python"
    },
    "language_info": {
      "codemirror_mode": {
        "name": "python",
        "version": 3
      },
      "file_extension": ".py",
      "mimetype": "text/x-python",
      "name": "python",
      "nbconvert_exporter": "python",
      "pygments_lexer": "ipython3",
      "version": "3.8"
    }
  },
  "nbformat_minor": 4,
  "nbformat": 4,
  "cells": [
    {
      "cell_type": "markdown",
      "source": "# Data Science Tools and Ecosystem\nIn this notebook, Data Science Tools and Ecosystem are summarized.",
      "metadata": {}
    },
    {
      "cell_type": "markdown",
      "source": "**Objectives**\n+ List popular languages for Data Science.\n+ List popular libraries for Data Science.\n+ List popular Data Science tools.\n+ List basic arithmatic expressions.\n",
      "metadata": {}
    },
    {
      "cell_type": "markdown",
      "source": "Some of the **popular languages that Data Scientists use** are:\n1. Python\n2. R\n3. SQL\n4. Java",
      "metadata": {}
    },
    {
      "cell_type": "markdown",
      "source": "Some of the **commonly used libraries used by Data Scientists** include:\n1. Pandas\n2. Numpy\n3. Matplotlib\n4. Scikit-learn",
      "metadata": {},
      "attachments": {}
    },
    {
      "cell_type": "markdown",
      "source": "|**Data Science Tools**|\n|-------|\n|Spyder|\n|RStudio|\n|JupyterLab|",
      "metadata": {}
    },
    {
      "cell_type": "markdown",
      "source": "### Below are a few examples of evaluating arithmetic expressions in Python.\n- <code>+ </code> **for addition.** Eg: 5+3\n- <code>- </code> **for subtraction.** Eg: 5-3\n- <code>/ </code> **for division.** Eg: 5/3\n- <code>* </code> **for multiplication.** Eg: 5*3",
      "metadata": {},
      "attachments": {}
    },
    {
      "cell_type": "code",
      "source": "#This a simple arithmetic expression to mutiply then add integers:\n(3*4)+5",
      "metadata": {
        "trusted": true
      },
      "outputs": [
        {
          "execution_count": 3,
          "output_type": "execute_result",
          "data": {
            "text/plain": "17"
          },
          "metadata": {}
        }
      ],
      "execution_count": 3
    },
    {
      "cell_type": "code",
      "source": "#This will convert 200 minutes to hours by diving by 60:\nround(200 / 60, 0)",
      "metadata": {
        "trusted": true
      },
      "outputs": [
        {
          "execution_count": 12,
          "output_type": "execute_result",
          "data": {
            "text/plain": "3.0"
          },
          "metadata": {}
        }
      ],
      "execution_count": 12
    },
    {
      "cell_type": "markdown",
      "source": "## Author\nRichard G Raju",
      "metadata": {}
    }
  ]
}